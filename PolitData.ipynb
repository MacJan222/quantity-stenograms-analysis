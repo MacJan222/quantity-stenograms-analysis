{
  "cells": [
    {
      "cell_type": "markdown",
      "metadata": {
        "id": "dxX1qIZNsrRA"
      },
      "source": [
        "## Kluby i koła"
      ]
    },
    {
      "cell_type": "code",
      "execution_count": null,
      "metadata": {
        "colab": {
          "base_uri": "https://localhost:8080/",
          "height": 37
        },
        "id": "Wj2_QOd-lINJ",
        "outputId": "08917513-5a81-4f34-b1ab-56296377fe83"
      },
      "outputs": [
        {
          "output_type": "display_data",
          "data": {
            "text/plain": [
              "<IPython.core.display.HTML object>"
            ],
            "text/html": [
              "\n",
              "  <style>\n",
              "    pre {\n",
              "        white-space: pre-wrap;\n",
              "    }\n",
              "  </style>\n",
              "  "
            ]
          },
          "metadata": {}
        }
      ],
      "source": [
        "pis_osoby = [\n",
        "    \"Adamczyk Andrzej\",\n",
        "    \"Andruszkiewicz Adam\",\n",
        "    \"Andzel Waldemar\",\n",
        "    \"Ardanowski Jan Krzysztof\",\n",
        "    \"Arent Iwona\",\n",
        "    \"Ast Marek\",\n",
        "    \"Babalski Zbigniew\",\n",
        "    \"Babinetz Piotr\",\n",
        "    \"Bartosik Ryszard\",\n",
        "    \"Bartuś Barbara\",\n",
        "    \"Baszko Mieczysław\",\n",
        "    \"Bąk Dariusz\",\n",
        "    \"Błaszczak Mariusz\",\n",
        "    \"Bochenek Rafał\",\n",
        "    \"Borowiak Joanna\",\n",
        "    \"Bortniczuk Kamil\",\n",
        "    \"Borys-Szopa Bożena\",\n",
        "    \"Buda Waldemar\",\n",
        "    \"Burzyńska Lidia\",\n",
        "    \"Chmielowiec Zbigniew\",\n",
        "    \"Choma Kazimierz\",\n",
        "    \"Chorosińska Dominika\",\n",
        "    \"Chrzan Tadeusz\",\n",
        "    \"Cicholska Anna Ewa\",\n",
        "    \"Cieślak Michał\",\n",
        "    \"Cymański Tadeusz\",\n",
        "    \"Czarnecki Krzysztof\",\n",
        "    \"Czarnecki Przemysław\",\n",
        "    \"Czarnecki Witold\",\n",
        "    \"Czarnek Przemysław\",\n",
        "    \"Czartoryski Arkadiusz\",\n",
        "    \"Czerwińska Anita\",\n",
        "    \"Czochara Katarzyna\",\n",
        "    \"Dąbrowska-Banaszek Anna\",\n",
        "    \"Dobrzyński Leszek\",\n",
        "    \"Dolata Zbigniew\",\n",
        "    \"Dorywalski Bartłomiej\",\n",
        "    \"Drabek Przemysław\",\n",
        "    \"Duda Elżbieta\",\n",
        "    \"Duda Jan\",\n",
        "    \"Duszek Marcin\",\n",
        "    \"Dworczyk Michał\",\n",
        "    \"Dziedziczak Jan\",\n",
        "    \"Dziuk Barbara\",\n",
        "    \"Emilewicz Jadwiga\",\n",
        "    \"Filipiak Ewa\",\n",
        "    \"Fogiel Radosław\",\n",
        "    \"Galemba Leszek\",\n",
        "    \"Gawęda Adam\",\n",
        "    \"Gawron Andrzej\",\n",
        "    \"Gaża Grzegorz\",\n",
        "    \"Gembicka Anna\",\n",
        "    \"Giżyński Szymon\",\n",
        "    \"Glenc Teresa\",\n",
        "    \"Gliński Piotr\",\n",
        "    \"Głuchowski Krzysztof\",\n",
        "    \"Golińska Małgorzata\",\n",
        "    \"Gołojuch Kazimierz\",\n",
        "    \"Gonciarz Jarosław\",\n",
        "    \"Gontarz Robert\",\n",
        "    \"Gosek Mariusz\",\n",
        "    \"Gosiewska Małgorzata\",\n",
        "    \"Górska Agnieszka\",\n",
        "    \"Górski Maciej\",\n",
        "    \"Gróbarczyk Marek\",\n",
        "    \"Gut-Mostowy Andrzej\",\n",
        "    \"Gwiazdowski Kazimierz\",\n",
        "    \"Gwóźdź Marcin\",\n",
        "    \"Hałas Teresa\",\n",
        "    \"Hoc Czesław\",\n",
        "    \"Hoffmann Zbigniew Grzegorz\",\n",
        "    \"Horała Marcin\",\n",
        "    \"Hreniak Paweł\",\n",
        "    \"Jach Michał\",\n",
        "    \"Janowska Małgorzata\",\n",
        "    \"Kaczmarczyk Norbert\",\n",
        "    \"Kaczyński Filip\",\n",
        "    \"Kaczyński Jarosław\",\n",
        "    \"Kaleta Piotr\",\n",
        "    \"Kaleta Sebastian\",\n",
        "    \"Kałużny Mariusz\",\n",
        "    \"Kamiński Mariusz\",\n",
        "    \"Kanthak Jan\",\n",
        "    \"Kapinos Fryderyk\",\n",
        "    \"Kołakowski Lech\",\n",
        "    \"Kossakowski Wojciech\",\n",
        "    \"Kosztowniak Andrzej\",\n",
        "    \"Kowalczyk Henryk\",\n",
        "    \"Kowalczyk Leszek\",\n",
        "    \"Kowalski Janusz\",\n",
        "    \"Kownacki Bartosz\",\n",
        "    \"Kozanecka Ewa\",\n",
        "    \"Kozik Krzysztof Janusz\",\n",
        "    \"Krajewski Jarosław\",\n",
        "    \"Krajewski Wiesław\",\n",
        "    \"Krasulski Leonard\",\n",
        "    \"Król Piotr\",\n",
        "    \"Krupka Anna\",\n",
        "    \"Kryj Andrzej\",\n",
        "    \"Kubiak Marta\",\n",
        "    \"Kubów Krzysztof\",\n",
        "    \"Kuchciński Marek\",\n",
        "    \"Kurowska Iwona\",\n",
        "    \"Kurowska Maria\",\n",
        "    \"Kurowski Władysław\",\n",
        "    \"Kurzępa Jacek\",\n",
        "    \"Kwiecień Anna\",\n",
        "    \"Kwitek Marek\",\n",
        "    \"Latos Tomasz\",\n",
        "    \"Lichocka Joanna\",\n",
        "    \"Lipiec Krzysztof\",\n",
        "    \"Lisiecki Paweł\",\n",
        "    \"Lorek Grzegorz\",\n",
        "    \"Łapiak Aleksandra\",\n",
        "    \"Ławniczak Tomasz\",\n",
        "    \"Machałek Marzena\",\n",
        "    \"Macierewicz Antoni\",\n",
        "    \"Maląg Marlena Magdalena\",\n",
        "    \"Malik Ewa\",\n",
        "    \"Małecki Jerzy\",\n",
        "    \"Małecki Maciej\",\n",
        "    \"Materna Jerzy\",\n",
        "    \"Mateusiak-Pielucha Beata\",\n",
        "    \"Matusiak Grzegorz\",\n",
        "    \"Matuszewski Marek\",\n",
        "    \"Matuszny Kazimierz\",\n",
        "    \"Milczanowska Anna\",\n",
        "    \"Milewski Daniel\",\n",
        "    \"Morawiecki Mateusz\",\n",
        "    \"Mosiński Jan\",\n",
        "    \"Moskal Kazimierz\",\n",
        "    \"Mrówczyński Aleksander\",\n",
        "    \"Mularczyk Arkadiusz\",\n",
        "    \"Müller Piotr\",\n",
        "    \"Murdzek Wojciech\",\n",
        "    \"Nowicka Danuta\",\n",
        "    \"Ociepa Marcin\",\n",
        "    \"Olejniczak Waldemar\",\n",
        "    \"Olszewski Dariusz\",\n",
        "    \"Ołdakowski Adam\",\n",
        "    \"Osuch Jacek\",\n",
        "    \"Ozdoba Jacek\",\n",
        "    \"Paluch Anna\",\n",
        "    \"Pamuła Teresa\",\n",
        "    \"Paul Jerzy\",\n",
        "    \"Pawłowska Monika\",\n",
        "    \"Piecha Bolesław\",\n",
        "    \"Piechowiak Grzegorz\",\n",
        "    \"Pieczarka Anna\",\n",
        "    \"Piontkowski Dariusz\",\n",
        "    \"Płażyński Kacper\",\n",
        "    \"Płonka Elżbieta\",\n",
        "    \"Pogoda Szymon\",\n",
        "    \"Polaczek Jerzy\",\n",
        "    \"Polak Marek\",\n",
        "    \"Polak Piotr\",\n",
        "    \"Porowska Violetta\",\n",
        "    \"Porzucek Marcin\",\n",
        "    \"Puda Grzegorz\",\n",
        "    \"Rau Zbigniew\",\n",
        "    \"Romanowski Rafał\",\n",
        "    \"Rusecka Urszula\",\n",
        "    \"Rychlik Paweł\",\n",
        "    \"Rzymkowski Tomasz\",\n",
        "    \"Sak Piotr\",\n",
        "    \"Sasin Jacek\",\n",
        "    \"Schmidt Anna\",\n",
        "    \"Schreiber Łukasz\",\n",
        "    \"Sellin Jarosław\",\n",
        "    \"Siarka Edward\",\n",
        "    \"Sipiera Zdzisław\",\n",
        "    \"Skwarek Sławomir\",\n",
        "    \"Smoliński Kazimierz\",\n",
        "    \"Sobolewski Krzysztof\",\n",
        "    \"Soboń Artur\",\n",
        "    \"Soin Agnieszka\",\n",
        "    \"Sójka Katarzyna\",\n",
        "    \"Stachowiak-Różecka Mirosława\",\n",
        "    \"Stefaniuk Dariusz\",\n",
        "    \"Strzałka Beata\",\n",
        "    \"Suski Marek\",\n",
        "    \"Szałabawka Artur\",\n",
        "    \"Szarama Wojciech\",\n",
        "    \"Szczurek-Żelazko Józefa\",\n",
        "    \"Szefernaker Paweł\",\n",
        "    \"Szlachta Andrzej\",\n",
        "    \"Szulowski Krzysztof\",\n",
        "    \"Szwed Stanisław\",\n",
        "    \"Szymańska Ewa\",\n",
        "    \"Szynkowski vel Sęk Szymon\",\n",
        "    \"Śniadek Janusz\",\n",
        "    \"Śnieżek Adam\",\n",
        "    \"Świat Jacek\",\n",
        "    \"Tchórzewski Krzysztof\",\n",
        "    \"Telus Robert\",\n",
        "    \"Terlecki Ryszard\",\n",
        "    \"Tomaszewski Włodzimierz\",\n",
        "    \"Trepka Mariusz\",\n",
        "    \"Tułajew Sylwester\",\n",
        "    \"Uruski Piotr\",\n",
        "    \"Uściński Piotr\",\n",
        "    \"Warchoł Marcin\",\n",
        "    \"Wargocka Teresa\",\n",
        "    \"Warwas Robert\",\n",
        "    \"Warzecha Jan\",\n",
        "    \"Wassermann Małgorzata\",\n",
        "    \"Wawrzyk Piotr\",\n",
        "    \"Wąsik Maciej\",\n",
        "    \"Weber Rafał\",\n",
        "    \"Wesoły Marek\",\n",
        "    \"Wicher Patryk\",\n",
        "    \"Witek Elżbieta\",\n",
        "    \"Wojciechowski Grzegorz\",\n",
        "    \"Wojtyszek Agata Katarzyna\",\n",
        "    \"Woś Michał\",\n",
        "    \"Woźniak Grzegorz Adam\",\n",
        "    \"Woźniak Tadeusz\",\n",
        "    \"Wójcik Michał\",\n",
        "    \"Wróblewski Bartłomiej\",\n",
        "    \"Zawiślak Sławomir\",\n",
        "    \"Zielińska Elżbieta\",\n",
        "    \"Zieliński Jarosław\",\n",
        "    \"Zieliński Tomasz\",\n",
        "    \"Ziobro Zbigniew\",\n",
        "    \"Zubowski Wojciech\",\n",
        "    \"Zyska Ireneusz\",\n",
        "    \"Żalek Jacek\"\n",
        "]\n",
        "\n",
        "ko_osoby = [\n",
        "    \"Adamowicz Piotr\",\n",
        "    \"Aniśko Tomasz\",\n",
        "    \"Augustyn Urszula\",\n",
        "    \"Aziewicz Tadeusz\",\n",
        "    \"Bochenek Mateusz\",\n",
        "    \"Borowczak Jerzy\",\n",
        "    \"Borys Piotr\",\n",
        "    \"Budka Borys\",\n",
        "    \"Chmiel Małgorzata\",\n",
        "    \"Cichoń Janusz\",\n",
        "    \"Cyrański Adam\",\n",
        "    \"Czernow Zofia\",\n",
        "    \"Czykwin Eugeniusz\",\n",
        "    \"Dolniak Barbara\",\n",
        "    \"Dzikowski Waldy\",\n",
        "    \"Fabisiak Joanna\",\n",
        "    \"Filiks Magdalena\",\n",
        "    \"Frydrych Joanna\",\n",
        "    \"Frysztak Konrad\",\n",
        "    \"Gadowski Krzysztof\",\n",
        "    \"Gajewska Aleksandra\",\n",
        "    \"Gajewska Kinga\",\n",
        "    \"Gapińska Elżbieta\",\n",
        "    \"Gasiuk-Pihowicz Kamila\",\n",
        "    \"Gelert Elżbieta\",\n",
        "    \"Gill-Piątek Hanna\",\n",
        "    \"Głogowski Tomasz\",\n",
        "    \"Golbik Marta\",\n",
        "    \"Grabarczyk Cezary\",\n",
        "    \"Grabczuk Krzysztof\",\n",
        "    \"Grabiec Jan\",\n",
        "    \"Grupiński Rafał\",\n",
        "    \"Hanajczyk Agnieszka\",\n",
        "    \"Hardie-Douglas Jerzy\",\n",
        "    \"Hartwich Iwona\",\n",
        "    \"Hok Marek\",\n",
        "    \"Jachira Klaudia\",\n",
        "    \"Janyska Maria Małgorzata\",\n",
        "    \"Jaros Michał\",\n",
        "    \"Jaśkowiak Joanna\",\n",
        "    \"Joński Dariusz\",\n",
        "    \"Kidawa-Błońska Małgorzata\",\n",
        "    \"Kierwiński Marcin\",\n",
        "    \"Kluzik-Rostkowska Joanna\",\n",
        "    \"Kołodziej Ewa\",\n",
        "    \"Konwiński Zbigniew\",\n",
        "    \"Kostuś Tomasz\",\n",
        "    \"Kowal Paweł\",\n",
        "    \"Kozłowska Iwona Maria\",\n",
        "    \"Krawczyk Michał\",\n",
        "    \"Kropiwnicki Robert\",\n",
        "    \"Król Wojciech\",\n",
        "    \"Krząkała Marek\",\n",
        "    \"Krzywonos-Strycharska Henryka\",\n",
        "    \"Lasek Maciej\",\n",
        "    \"Lenartowicz Gabriela\",\n",
        "    \"Lenz Tomasz\",\n",
        "    \"Leszczyna Izabela\",\n",
        "    \"Lubnauer Katarzyna\",\n",
        "    \"Łącki Artur\",\n",
        "    \"Łośko Magdalena\",\n",
        "    \"Marchewka Arkadiusz\",\n",
        "    \"Marczułajtis-Walczak Jagna\",\n",
        "    \"Mieszkowski Krzysztof\",\n",
        "    \"Miller Rajmund\",\n",
        "    \"Miszalski Aleksander\",\n",
        "    \"Mroczek Czesław\",\n",
        "    \"Mrzygłocka Izabela Katarzyna\",\n",
        "    \"Myrcha Arkadiusz\",\n",
        "    \"Napieralski Grzegorz\",\n",
        "    \"Neumann Sławomir\",\n",
        "    \"Niedziela Dorota\",\n",
        "    \"Niemczyk Małgorzata\",\n",
        "    \"Nitras Sławomir\",\n",
        "    \"Nowacka Barbara\",\n",
        "    \"Nowak Tomasz Piotr\",\n",
        "    \"Nykiel Mirosława\",\n",
        "    \"Okła-Drewnowicz Marzena\",\n",
        "    \"Olichwer Tomasz\",\n",
        "    \"Olszewski Paweł\",\n",
        "    \"Osos Katarzyna\",\n",
        "    \"Papke Paweł\",\n",
        "    \"Pawliczak Karolina\",\n",
        "    \"Pępek Małgorzata\",\n",
        "    \"Piątkowski Krzysztof\",\n",
        "    \"Piechota Sławomir Jan\",\n",
        "    \"Piekarska Katarzyna Maria\",\n",
        "    \"Plocke Kazimierz\",\n",
        "    \"Pomaska Agnieszka\",\n",
        "    \"Poncyljusz Paweł\",\n",
        "    \"Protas Jacek\",\n",
        "    \"Rosa Monika\",\n",
        "    \"Rosati Dariusz\",\n",
        "    \"Rusiecki Grzegorz\",\n",
        "    \"Rutnicki Jakub\",\n",
        "    \"Rząsa Marek\",\n",
        "    \"Saługa Wojciech\",\n",
        "    \"Schetyna Grzegorz\",\n",
        "    \"Sibińska Krystyna\",\n",
        "    \"Siemoniak Tomasz\",\n",
        "    \"Sienkiewicz Bartłomiej\",\n",
        "    \"Skowrońska Krystyna\",\n",
        "    \"Sługocki Waldemar\",\n",
        "    \"Sowa Marek\",\n",
        "    \"Sterczewski Franciszek\",\n",
        "    \"Szczerba Michał\",\n",
        "    \"Szewiński Andrzej\",\n",
        "    \"Szłapka Adam\",\n",
        "    \"Szramka Paweł\",\n",
        "    \"Szumilas Krystyna\",\n",
        "    \"Szymański Tomasz\",\n",
        "    \"Śledzińska-Katarasińska Iwona\",\n",
        "    \"Tomczyk Cezary\",\n",
        "    \"Tracz Małgorzata\",\n",
        "    \"Truskolaski Krzysztof\",\n",
        "    \"Tyszkiewicz Robert\",\n",
        "    \"Urbaniak Jarosław\",\n",
        "    \"Wałęsa Jarosław\",\n",
        "    \"Wcisło Marta\",\n",
        "    \"Wielichowska Monika\",\n",
        "    \"Wilczyński Ryszard\",\n",
        "    \"Witczak Mariusz\",\n",
        "    \"Wojciechowska Anna\",\n",
        "    \"Wypij Michał\",\n",
        "    \"Zembaczyński Witold\",\n",
        "    \"Zielińska Urszula\",\n",
        "    \"Zientarski Piotr Benedykt\",\n",
        "    \"Zwiefka Tadeusz\",\n",
        "    \"Żmijan Stanisław\"\n",
        "]\n",
        "\n",
        "lew_osoby = [\n",
        "    \"Adamczyk Rafał\",\n",
        "    \"Ajchler Romuald\",\n",
        "    \"Biejat Magdalena\",\n",
        "    \"Buż Wiesław\",\n",
        "    \"Czarzasty Włodzimierz\",\n",
        "    \"Czerniak Jacek\",\n",
        "    \"Dyduch Marek\",\n",
        "    \"Dziemianowicz-Bąk Agnieszka\",\n",
        "    \"Falej Monika\",\n",
        "    \"Gawkowski Krzysztof\",\n",
        "    \"Gdula Maciej\",\n",
        "    \"Gosek-Popiołek Daria\",\n",
        "    \"Iwaniak Arkadiusz\",\n",
        "    \"Konieczny Maciej\",\n",
        "    \"Koperski Przemysław\",\n",
        "    \"Kopiec Maciej\",\n",
        "    \"Kotula Katarzyna\",\n",
        "    \"Kretkowska Katarzyna\",\n",
        "    \"Krutul Paweł\",\n",
        "    \"Kucharska-Dziedzic Anita\",\n",
        "    \"Kulasek Marcin\",\n",
        "    \"Matysiak Paulina\",\n",
        "    \"Nowicka Wanda\",\n",
        "    \"Obaz Robert\",\n",
        "    \"Prokop-Paczkowska Małgorzata\",\n",
        "    \"Rutka Marek\",\n",
        "    \"Scheuring-Wielgus Joanna\",\n",
        "    \"Sekuła-Szmajdzińska Małgorzata\",\n",
        "    \"Sowińska Anita\",\n",
        "    \"Szczepański Wiesław\",\n",
        "    \"Szejna Andrzej\",\n",
        "    \"Szopiński Jan\",\n",
        "    \"Śmiszek Krzysztof\",\n",
        "    \"Tomaszewski Tadeusz\",\n",
        "    \"Trela Tomasz\",\n",
        "    \"Ueberhan Katarzyna\",\n",
        "    \"Wieczorek Dariusz\",\n",
        "    \"Wolski Zdzisław\",\n",
        "    \"Wontor Bogusław\",\n",
        "    \"Zandberg Adrian\",\n",
        "    \"Zawisza Marcelina\",\n",
        "    \"Żukowska Anna Maria\"\n",
        "]\n",
        "\n",
        "\n",
        "psl_osoby = [\n",
        "    \"Bartoszewski Władysław Teofil\",\n",
        "    \"Bejda Paweł\",\n",
        "    \"Biernacki Marek\",\n",
        "    \"Bukowiec Stanisław\",\n",
        "    \"Grzyb Andrzej\",\n",
        "    \"Kasprzak Mieczysław\",\n",
        "    \"Klimczak Dariusz\",\n",
        "    \"Kosiniak-Kamysz Władysław\",\n",
        "    \"Krajewski Stefan\",\n",
        "    \"Lubczyk Radosław\",\n",
        "    \"Łopata Jan\",\n",
        "    \"Maliszewski Mirosław\",\n",
        "    \"Michałek Iwona\",\n",
        "    \"Nowogórska Urszula\",\n",
        "    \"Pasławska Urszula\",\n",
        "    \"Paszyk Krzysztof\",\n",
        "    \"Protasiewicz Jacek\",\n",
        "    \"Raś Ireneusz\",\n",
        "    \"Rzepa Jarosław\",\n",
        "    \"Sawicki Marek\",\n",
        "    \"Siekierski Czesław\",\n",
        "    \"Sroka Magdalena\",\n",
        "    \"Tomczak Jacek\",\n",
        "    \"Zgorzelski Piotr\",\n",
        "    \"Ziejewski Zbigniew\",\n",
        "    \"Żelazowska Bożena\"\n",
        "]\n",
        "\n",
        "konf_osoby = [\n",
        "    \"Berkowicz Konrad\",\n",
        "    \"Bosak Krzysztof\",\n",
        "    \"Braun Grzegorz\",\n",
        "    \"Kamiński Krystian\",\n",
        "    \"Korwin-Mikke Janusz\",\n",
        "    \"Siarkowska Anna Maria\",\n",
        "    \"Sośnierz Dobromir\",\n",
        "    \"Tuduj Krzysztof\",\n",
        "    \"Tyszka Stanisław\",\n",
        "    \"Urbaniak Michał\",\n",
        "    \"Winnicki Robert\"\n",
        "]\n",
        "\n",
        "P2050_osoby = [\n",
        "    \"Gramatyka Michał\",\n",
        "    \"Hennig-Kloska Paulina\",\n",
        "    \"Mucha Joanna\",\n",
        "    \"Suchoń Mirosław\",\n",
        "    \"Zalewski Paweł\",\n",
        "    \"Zimoch Tomasz\"\n",
        "]\n",
        "\n",
        "\n",
        "pozostali = [\n",
        "    \"Kukiz Paweł\",\n",
        "    \"Sachajko Jarosław\",\n",
        "    \"Żuk Stanisław\",\n",
        "\n",
        "    \"Girzyński Zbigniew\",\n",
        "    \"Sośnierz Andrzej\",\n",
        "    \"Ścigaj Agnieszka\",\n",
        "\n",
        "    \"Kwiatkowski Robert\",\n",
        "    \"Rozenek Andrzej\",\n",
        "    \"Senyszyn Joanna\",\n",
        "\n",
        "    \"Ajchler Zbigniew\",\n",
        "    \"Dziambor Artur\",\n",
        "    \"Galla Ryszard\",\n",
        "    \"Gowin Jarosław\",\n",
        "    \"Kulesza Jakub\",\n",
        "    \"Maciejewska Beata\",\n",
        "    \"Maksymowicz Wojciech\",\n",
        "    \"Mejza Łukasz\",\n",
        "    \"Sonik Bogusław\"\n",
        "]"
      ]
    },
    {
      "cell_type": "markdown",
      "metadata": {
        "id": "taQ7en3y7u8p"
      },
      "source": [
        "## Linki"
      ]
    },
    {
      "cell_type": "code",
      "execution_count": null,
      "metadata": {
        "colab": {
          "base_uri": "https://localhost:8080/",
          "height": 17
        },
        "id": "-E_lILBy7xXU",
        "outputId": "6de1b687-2ce2-4198-f8c1-5c797e40d429"
      },
      "outputs": [
        {
          "data": {
            "text/html": [
              "\n",
              "  <style>\n",
              "    pre {\n",
              "        white-space: pre-wrap;\n",
              "    }\n",
              "  </style>\n",
              "  "
            ],
            "text/plain": [
              "<IPython.core.display.HTML object>"
            ]
          },
          "metadata": {},
          "output_type": "display_data"
        }
      ],
      "source": [
        "posiedzenia_2019 = [\n",
        "\"http://orka2.sejm.gov.pl/StenoInter9.nsf/0/3E9EF2D70CF8B844C12584B0007E0A03/%24File/01_a_ksiazka_bis.pdf\",\n",
        "\"http://orka2.sejm.gov.pl/StenoInter9.nsf/0/8DD18E8E97D001A5C12584B100729ECF/%24File/01_b_ksiazka_bis.pdf\",\n",
        "\"http://orka2.sejm.gov.pl/StenoInter9.nsf/0/65E0AEB97E76894EC12584B800149932/%24File/01_c_ksiazka_bis.pdf\",\n",
        "\"http://orka2.sejm.gov.pl/StenoInter9.nsf/0/0198E90E7BCD4CBBC12584BA00172CB7/%24File/01_d_ksiazka_bis.pdf\",\n",
        "\"http://orka2.sejm.gov.pl/StenoInter9.nsf/0/905BBB09C3E3C7B0C12584CE007CA109/%24File/02_a_ksiazka_bis.pdf\",\n",
        "\"http://orka2.sejm.gov.pl/StenoInter9.nsf/0/F87B381E85C1494DC12584D60010A01B/%24File/02_b_ksiazka_bis.pdf\",\n",
        "\"http://orka2.sejm.gov.pl/StenoInter9.nsf/0/50659388C549E816C12584D6007F1C5F/%24File/02_c_ksiazka_bis.pdf\",\n",
        "\n",
        "\"http://orka2.sejm.gov.pl/StenoInter9.nsf/0/093E64E9C6B54808C12584EA0014F2B2/%24File/03_a_ksiazka_bis.pdf\",\n",
        "\"http://orka2.sejm.gov.pl/StenoInter9.nsf/0/AB36F27D3945F154C12584EB00002835/%24File/03_b_ksiazka_bis.pdf\",\n",
        "\"http://orka2.sejm.gov.pl/StenoInter9.nsf/0/9C1E1E482BF7FEB8C12584EB006698C3/%24File/03_c_ksiazka_bis.pdf\",\n",
        "\"http://orka2.sejm.gov.pl/StenoInter9.nsf/0/8BDAFFEA1CC4378CC12584F80001B73D/%24File/04_a_ksiazka_bis.pdf\",\n",
        "\"http://orka2.sejm.gov.pl/StenoInter9.nsf/0/E5D3860DEE48082BC12584F90006B8D6/%24File/04_b_ksiazka_bis.pdf\",\n",
        "\"http://orka2.sejm.gov.pl/StenoInter9.nsf/0/FFF3EC83C1281F8BC125850D001CF33F/%24File/05_a_ksiazka_bis.pdf\",\n",
        "\"http://orka2.sejm.gov.pl/StenoInter9.nsf/0/CEE6D48BA79F7F99C125850E001B8560/%24File/05_b_ksiazka_bis.pdf\",\n",
        "\"http://orka2.sejm.gov.pl/StenoInter9.nsf/0/DF9C048E8CBD91F3C125850E006E0A41/%24File/06_ksiazka_bis.pdf\",\n",
        "\"http://orka2.sejm.gov.pl/StenoInter9.nsf/0/DC57012B356EB924C1258520000DBEB1/%24File/07_ksiazka_bis.pdf\",\n",
        "\"http://orka2.sejm.gov.pl/StenoInter9.nsf/0/652C75702BEB9B1DC125853700794FDD/%24File/08_a_ksiazka_bis.pdf\",\n",
        "\"http://orka2.sejm.gov.pl/StenoInter9.nsf/0/B87FADD0FCB387A5C125854200721B26/%24File/08_b_ksiazka_bis.pdf\",\n",
        "\"http://orka2.sejm.gov.pl/StenoInter9.nsf/0/F4B5826AEA6A1EDCC125854200726621/%24File/09_a_ksiazka_bis.pdf\",\n",
        "\"http://orka2.sejm.gov.pl/StenoInter9.nsf/0/C9ADF880F819464AC1258545004D30BB/%24File/09_b_ksiazka_bis.pdf\",\n",
        "\"http://orka2.sejm.gov.pl/StenoInter9.nsf/0/8E10DCFB24EF9825C1258545005118FA/%24File/09_c_ksiazka_bis.pdf\",\n",
        "\"http://orka2.sejm.gov.pl/StenoInter9.nsf/0/E6D6B031D2FFD9B5C1258545005663AB/%24File/09_d_ksiazka_bis.pdf\",\n",
        "\"http://orka2.sejm.gov.pl/StenoInter9.nsf/0/59CBBAB845D1D690C125854C003E2F8F/%24File/09_e_ksiazka_bis.pdf\",\n",
        "\"http://orka2.sejm.gov.pl/StenoInter9.nsf/0/E0701FA60F4B4147C1258550003D6A14/%24File/10_a_ksiazka_bis.pdf\",\n",
        "\"http://orka2.sejm.gov.pl/StenoInter9.nsf/0/73F7E694C568C63EC1258552002C96E4/%24File/10_b_ksiazka_bis.pdf\",\n",
        "\"http://orka2.sejm.gov.pl/StenoInter9.nsf/0/4B722BE082E81A9FC125855E004E2218/%24File/11_a_ksiazka_bis.pdf\",\n",
        "\"http://orka2.sejm.gov.pl/StenoInter9.nsf/0/13866236B05A96DDC125856000360386/%24File/11_b_ksiazka_bis.pdf\",\n",
        "\"http://orka2.sejm.gov.pl/StenoInter9.nsf/0/574A22D9BC528A0EC125856000368FA0/%24File/11_c_ksiazka_bis.pdf\",\n",
        "\"http://orka2.sejm.gov.pl/StenoInter9.nsf/0/ABB8BF40D5C0A45BC12585650033AE38/%24File/11_d_ksiazka_bis.pdf\",\n",
        "\"http://orka2.sejm.gov.pl/StenoInter9.nsf/0/876B42004082F7A1C1258566003A226B/%24File/11_e_ksiazka_bis.pdf\",\n",
        "\"http://orka2.sejm.gov.pl/StenoInter9.nsf/0/035B705BB545B172C1258568004F39C1/%24File/11_f_ksiazka_bis.pdf\",\n",
        "\"http://orka2.sejm.gov.pl/StenoInter9.nsf/0/6A4D70F55EE2F040C125856D00296DB4/%24File/11_g_ksiazka_bis.pdf\",\n",
        "\"http://orka2.sejm.gov.pl/StenoInter9.nsf/0/40828BA6DEB6D370C125857700429B21/%24File/12_a_ksiazka_bis.pdf\",\n",
        "\"http://orka2.sejm.gov.pl/StenoInter9.nsf/0/E53352F6F5CA393CC125857C00487040/%24File/12_b_ksiazka_bis.pdf\",\n",
        "\"http://orka2.sejm.gov.pl/StenoInter9.nsf/0/33A08C5F5B8C20D9C125857D003AFCBA/%24File/12_c_ksiazka_bis.pdf\",\n",
        "\"http://orka2.sejm.gov.pl/StenoInter9.nsf/0/60E5E8B58ECF4DFFC125858800480737/%24File/12_d_ksiazka_bis.pdf\",\n",
        "\"http://orka2.sejm.gov.pl/StenoInter9.nsf/0/9DFE11E15D60115FC1258591004244EC/%24File/13_a_ksiazka_bis.pdf\",\n",
        "\"http://orka2.sejm.gov.pl/StenoInter9.nsf/0/D30FB95C9629B4DFC12585AC004ADEF9/%24File/14_a_ksiazka_bis.pdf\",\n",
        "\"http://orka2.sejm.gov.pl/StenoInter9.nsf/0/F13DBFBCDE63F75AC12585AD0046ED26/%24File/14_b_ksiazka_bis.pdf\",\n",
        "\"http://orka2.sejm.gov.pl/StenoInter9.nsf/0/61C79198514935EDC12585B20047D675/%24File/15_a_ksiazka_bis.pdf\",\n",
        "\"http://orka2.sejm.gov.pl/StenoInter9.nsf/0/76BB8EB9AE47E09DC12585BA0038DC6C/%24File/15_b_ksiazka_bis.pdf\",\n",
        "\"http://orka2.sejm.gov.pl/StenoInter9.nsf/0/9C6DA3CAAC0335FCC12585BC0038DC94/%24File/15_c_ksiazka_bis.pdf\",\n",
        "\"http://orka2.sejm.gov.pl/StenoInter9.nsf/0/A76A60160238F345C12585C90045ADE3/%24File/16_ksiazka_bis.pdf\",\n",
        "\"http://orka2.sejm.gov.pl/StenoInter9.nsf/0/611E908D6E8438D2C12585E6000BC95E/%24File/17_a_ksiazka_bis.pdf\",\n",
        "\"http://orka2.sejm.gov.pl/StenoInter9.nsf/0/34EF5C3272AD4C57C12585E7000AED0F/%24File/17_b_ksiazka_bis.pdf\",\n",
        "\"http://orka2.sejm.gov.pl/StenoInter9.nsf/0/16E50ADE726BF558C12585FA007F8866/%24File/18_ksiazka_bis.pdf\",\n",
        "\"http://orka2.sejm.gov.pl/StenoInter9.nsf/0/FD76702797A9C24BC125860700480CA5/%24File/19_a_ksiazka_bis.pdf\",\n",
        "\"http://orka2.sejm.gov.pl/StenoInter9.nsf/0/AD01527D37FA11ACC1258608007058AC/%24File/19_b_ksiazka_bis.pdf\",\n",
        "\"http://orka2.sejm.gov.pl/StenoInter9.nsf/0/C62ABB332D9AA914C1258609006BF06A/%24File/19_c_ksiazka_bis.pdf\",\n",
        "\"http://orka2.sejm.gov.pl/StenoInter9.nsf/0/59C073768EDDA951C1258625002892EF/%24File/20_a_ksiazka_bis.pdf\",\n",
        "\"http://orka2.sejm.gov.pl/StenoInter9.nsf/0/51DEA0FB9C416D10C125860F007B0996/%24File/20_b_ksiazka_bis.pdf\",\n",
        "\"http://orka2.sejm.gov.pl/StenoInter9.nsf/0/10838D572B2C7CAAC125860F0004B7C9/%24File/21_a_ksiazka_bis.pdf\",\n",
        "\"http://orka2.sejm.gov.pl/StenoInter9.nsf/0/6F98061F55434901C1258626000D3C96/%24File/21_b_ksiazka_bis.pdf\",\n",
        "\"http://orka2.sejm.gov.pl/StenoInter9.nsf/0/6D18D37EAC0514A9C125862E000DEC3F/%24File/21_c_ksiazka_bis.pdf\",\n",
        "\"http://orka2.sejm.gov.pl/StenoInter9.nsf/0/78E9243DCC09A138C1258630004B35C6/%24File/21_d_ksiazka_bis.pdf\",\n",
        "\"http://orka2.sejm.gov.pl/StenoInter9.nsf/0/FE97AC05EFBA92D8C125863A00043394/%24File/22_a_ksiazka_bis.pdf\",\n",
        "\"http://orka2.sejm.gov.pl/StenoInter9.nsf/0/2650ECB4A3916716C125863A00798401/%24File/22_b_ksiazka_bis.pdf\",\n",
        "\"http://orka2.sejm.gov.pl/StenoInter9.nsf/0/7C99E8E8DA73A640C12586400002CED2/%24File/23_a_ksiazka_bis.pdf\",\n",
        "\"http://orka2.sejm.gov.pl/StenoInter9.nsf/0/B495F755D49FF1BEC1258641000A7DAC/%24File/23_b_ksiazka_bis.pdf\",\n",
        "\"http://orka2.sejm.gov.pl/StenoInter9.nsf/0/338B1675E5BB2F44C12586420009E2ED/%24File/24_ksiazka_bis.pdf\",\n",
        "\n",
        "\n",
        "\"http://orka2.sejm.gov.pl/StenoInter9.nsf/0/70085519F164607DC1258664000DEB9F/%24File/25_a_ksiazka_bis.pdf\",\n",
        "\"http://orka2.sejm.gov.pl/StenoInter9.nsf/0/DA0B7FC04ACC53CEC125866500118DD1/%24File/25_b_ksiazka_bis.pdf\",\n",
        "\"http://orka2.sejm.gov.pl/StenoInter9.nsf/0/29D0D8C96D7202C1C1258687000F784A/%24File/26_a_ksiazka_bis.pdf\",\n",
        "\"http://orka2.sejm.gov.pl/StenoInter9.nsf/0/E313487C19F2ECF3C12586880013CB57/%24File/26_b_ksiazka_bis.pdf\",\n",
        "\"http://orka2.sejm.gov.pl/StenoInter9.nsf/0/E22B5D57AA26B387C125869B0007575A/%24File/27_a_ksiazka_bis.pdf\",\n",
        "\"http://orka2.sejm.gov.pl/StenoInter9.nsf/0/D529AA18D9598E08C125869B007CFD45/%24File/27_b_ksiazka_bis.pdf\",\n",
        "\"http://orka2.sejm.gov.pl/StenoInter9.nsf/0/4A493274C4632D3BC12586A80057CF8B/%24File/27_c_ksiazka_bis.pdf\",\n",
        "\"http://orka2.sejm.gov.pl/StenoInter9.nsf/0/F466980291DC938DC12586B800161978/%24File/28_a_ksiazka_bis.pdf\",\n",
        "\"http://orka2.sejm.gov.pl/StenoInter9.nsf/0/0992B779CB33A66AC12586B800790AEB/%24File/28_b_ksiazka_bis.pdf\",\n",
        "\"http://orka2.sejm.gov.pl/StenoInter9.nsf/0/4ED0BE39148CF52CC12586BD00512E7A/%24File/28_c_ksiazka_bis.pdf\",\n",
        "\"http://orka2.sejm.gov.pl/StenoInter9.nsf/0/F747FAA5E5B69D08C12586CB0080ED96/%24File/29_a_ksiazka_bis.pdf\",\n",
        "\"http://orka2.sejm.gov.pl/StenoInter9.nsf/0/519EBED65142E3CAC12586DB00015BB6/%24File/30_a_ksiazka_bis.pdf\",\n",
        "\"http://orka2.sejm.gov.pl/StenoInter9.nsf/0/C5791CBBB6A9F90FC12586DB0079AAAC/%24File/30_b_ksiazka_bis.pdf\",\n",
        "\"http://orka2.sejm.gov.pl/StenoInter9.nsf/0/4ADDF560BCADB2B7C12586DC0062DDD0/%24File/30_c_ksiazka_bis.pdf\",\n",
        "\"http://orka2.sejm.gov.pl/StenoInter9.nsf/0/4ED6CD25F16C4A4DC12586E300627075/%24File/30_d_ksiazka_bis.pdf\",\n",
        "\"http://orka2.sejm.gov.pl/StenoInter9.nsf/0/3B6D5994A22CEA48C12586F5006FE52C/%24File/31_ksiazka_bis.pdf\",\n",
        "\"http://orka2.sejm.gov.pl/StenoInter9.nsf/0/524E65F54142D143C12586F6007AF30A/%24File/32_ksiazka_bis.pdf\",\n",
        "\"http://orka2.sejm.gov.pl/StenoInter9.nsf/0/C184CE67B68667DDC12586FE0009FFF7/%24File/33_a_ksiazka_bis.pdf\",\n",
        "\"http://orka2.sejm.gov.pl/StenoInter9.nsf/0/14F1D5898A529E98C12586FF00115BC4/%24File/33_b_ksiazka_bis.pdf\",\n",
        "\"http://orka2.sejm.gov.pl/StenoInter9.nsf/0/6BCDCF6C2F53E4B2C125870B007F4C82/%24File/34_a_ksiazka_bis.pdf\",\n",
        "\"http://orka2.sejm.gov.pl/StenoInter9.nsf/0/24C3C929687A4F0EC125870C007BEE1B/%24File/34_b_ksiazka_bis.pdf\",\n",
        "\"http://orka2.sejm.gov.pl/StenoInter9.nsf/0/D28992CF509D19F8C125871A00030EE7/%24File/35_a_ksiazka_bis.pdf\",\n",
        "\"http://orka2.sejm.gov.pl/StenoInter9.nsf/0/7CC0857C3CDFF185C125871B00026B72/%24File/35_b_ksiazka_bis.pdf\",\n",
        "\"http://orka2.sejm.gov.pl/StenoInter9.nsf/0/118D48CFF7E970ADC125871B00013A85/%24File/35_c_ksiazka_bis.pdf\",\n",
        "\"http://orka2.sejm.gov.pl/StenoInter9.nsf/0/E419D4D84F56BE4FC125872F00069907/%24File/36_a_ksiazka_bis.pdf\",\n",
        "\"http://orka2.sejm.gov.pl/StenoInter9.nsf/0/8D32E55499D01CB5C125874800776305/%24File/36_b_ksiazka_bis.pdf\",\n",
        "\"http://orka2.sejm.gov.pl/StenoInter9.nsf/0/8F8EECD7E32C4C24C1258751007203C7/%24File/36_c_ksiazka_bis.pdf\",\n",
        "\"http://orka2.sejm.gov.pl/StenoInter9.nsf/0/453BCD57EC60D004C125875200106C71/%24File/37_a_ksiazka_bis.pdf\",\n",
        "\"http://orka2.sejm.gov.pl/StenoInter9.nsf/0/95224CB7379663A9C1258753000610E9/%24File/37_b_ksiazka_bis.pdf\",\n",
        "\"http://orka2.sejm.gov.pl/StenoInter9.nsf/0/2C917973441CBE94C1258753007DC169/%24File/37_c_ksiazka_bis.pdf\",\n",
        "\"http://orka2.sejm.gov.pl/StenoInter9.nsf/0/03AF92F9A01C541DC125875F007FBDDB/%24File/38_a_ksiazka_bis.pdf\",\n",
        "\"http://orka2.sejm.gov.pl/StenoInter9.nsf/0/0B7388CA8D11F2D5C12587610007414D/%24File/38_b_ksiazka_bis.pdf\",\n",
        "\"http://orka2.sejm.gov.pl/StenoInter9.nsf/0/CB037723AC7ECF12C1258761007A8825/%24File/38_c_ksiazka_bis.pdf\",\n",
        "\"http://orka2.sejm.gov.pl/StenoInter9.nsf/0/DE0723DC0B65A5ADC125876E00040463/%24File/39_a_ksiazka_bis.pdf\",\n",
        "\"http://orka2.sejm.gov.pl/StenoInter9.nsf/0/29971354B994BE49C125876E007B8A50/%24File/39_b_ksiazka_bis.pdf\",\n",
        "\"http://orka2.sejm.gov.pl/StenoInter9.nsf/0/A5147BDA3C09B46DC125877D000A3742/%24File/40_a_ksiazka_bis.pdf\",\n",
        "\"http://orka2.sejm.gov.pl/StenoInter9.nsf/0/7A33C4FEA4C17FA9C125877D0070EED0/%24File/40_b_ksiazka_bis.pdf\",\n",
        "\"http://orka2.sejm.gov.pl/StenoInter9.nsf/0/E759260C92FA55C5C125878900001D34/%24File/41_a_ksiazka_bis.pdf\",\n",
        "\"http://orka2.sejm.gov.pl/StenoInter9.nsf/0/AB27E9EA398041EAC1258790000C954F/%24File/42_a_ksiazka_bis.pdf\",\n",
        "\"http://orka2.sejm.gov.pl/StenoInter9.nsf/0/196C1A7311347CAAC12587910003ED5F/%24File/42_b_ksiazka_bis.pdf\",\n",
        "\"http://orka2.sejm.gov.pl/StenoInter9.nsf/0/44B1D95127DA3A4AC125879D00831F13/%24File/43_a_ksiazka_bis.pdf\",\n",
        "\"http://orka2.sejm.gov.pl/StenoInter9.nsf/0/EC7404B232ED49E8C125879F00087476/%24File/43_b_ksiazka_bis.pdf\",\n",
        "\"http://orka2.sejm.gov.pl/StenoInter9.nsf/0/A7390CE5A76ACA77C125879F00799C47/%24File/43_c_ksiazka_bis.pdf\",\n",
        "\"http://orka2.sejm.gov.pl/StenoInter9.nsf/0/33B6A5C578607605C12587A5007B5494/%24File/43_d_ksiazka_bis.pdf\",\n",
        "\"http://orka2.sejm.gov.pl/StenoInter9.nsf/0/26104D268C4B39DCC12587A60067532B/%24File/43_e_ksiazka_bis.pdf\",\n",
        "\"http://orka2.sejm.gov.pl/StenoInter9.nsf/0/059D1C9031A801ECC12587AB007B2AC3/%24File/44_a_ksiazka_bis.pdf\",\n",
        "\"http://orka2.sejm.gov.pl/StenoInter9.nsf/0/6A4956B04335AB0CC12587AC0067923A/%24File/44_b_ksiazka_bis.pdf\",\n",
        "\"http://orka2.sejm.gov.pl/StenoInter9.nsf/0/2B90D21373CED682C12587AE00667FE7/%24File/45_a_ksiazka_bis.pdf\",\n",
        "\n",
        "\"http://orka2.sejm.gov.pl/StenoInter9.nsf/0/BFE4F371478F26C1C12587C900101769/%24File/46_a_ksiazka_bis.pdf\",\n",
        "\"http://orka2.sejm.gov.pl/StenoInter9.nsf/0/F18644D6EA3CB3ABC12587C9007A4809/%24File/46_b_ksiazka_bis.pdf\",\n",
        "\"http://orka2.sejm.gov.pl/StenoInter9.nsf/0/45E942A5C88F5BDAC12587D6007DD7CB/%24File/47_a_ksiazka_bis.pdf\",\n",
        "\"http://orka2.sejm.gov.pl/StenoInter9.nsf/0/3F5B863671E8C220C12587D7008374B6/%24File/47_b_ksiazka_bis.pdf\",\n",
        "\"http://orka2.sejm.gov.pl/StenoInter9.nsf/0/4A552D7F606CB051C12587DC007D28D4/%24File/47_c_ksiazka_bis.pdf\",\n",
        "\"http://orka2.sejm.gov.pl/StenoInter9.nsf/0/D8E3CB0EE8ED19B9C12587E300826470/%24File/48_a_ksiazka_bis.pdf\",\n",
        "\"http://orka2.sejm.gov.pl/StenoInter9.nsf/0/2A1FB4F6E3A40AE0C12587E4007A1339/%24File/48_b_ksiazka_bis.pdf\",\n",
        "\"http://orka2.sejm.gov.pl/StenoInter9.nsf/0/06D93B2AB90774B7C12587F20075CF1C/%24File/49_a_ksiazka_bis.pdf\",\n",
        "\"http://orka2.sejm.gov.pl/StenoInter9.nsf/0/6F0910CA3D56E28FC12587F300642019/%24File/49_b_ksiazka_bis.pdf\",\n",
        "\"http://orka2.sejm.gov.pl/StenoInter9.nsf/0/5912FF442DFD0315C12587FA0069CC06/%24File/49_c_ksiazka_bis.pdf\",\n",
        "\"http://orka2.sejm.gov.pl/StenoInter9.nsf/0/B49B1B35E681F81DC12587FF006D6B76/%24File/50_a_ksiazka_bis.pdf\",\n",
        "\"http://orka2.sejm.gov.pl/StenoInter9.nsf/0/E91548C925FF00F5C12588000075D330/%24File/50_b_ksiazka_bis.pdf\",\n",
        "\"http://orka2.sejm.gov.pl/StenoInter9.nsf/0/D47A258286B9E67DC1258802007C6959/%24File/50_c_ksiazka_bis.pdf\",\n",
        "\"http://orka2.sejm.gov.pl/StenoInter9.nsf/0/7DE431B8168CD0AFC1258803004D133B/%24File/50_d_ksiazka_bis.pdf\",\n",
        "\"http://orka2.sejm.gov.pl/StenoInter9.nsf/0/E16E7722C8798972C125880E0081177D/%24File/51_a_ksiazka_bis.pdf\",\n",
        "\"http://orka2.sejm.gov.pl/StenoInter9.nsf/0/12004035FC7A0EFBC125880F0079D959/%24File/51_b_ksiazka_bis.pdf\",\n",
        "\"http://orka2.sejm.gov.pl/StenoInter9.nsf/0/2B67DA7847F8AED6C125881C007A801C/%24File/52_a_ksiazka_bis.pdf\",\n",
        "\"http://orka2.sejm.gov.pl/StenoInter9.nsf/0/50DB18805451A137C125881E00089301/%24File/52_b_ksiazka_bis.pdf\",\n",
        "\"http://orka2.sejm.gov.pl/StenoInter9.nsf/0/3AAE16F9DBA14757C1258823005AF208/%24File/52_c_ksiazka_bis.pdf\",\n",
        "\"http://orka2.sejm.gov.pl/StenoInter9.nsf/0/864B9C4AA2D93800C12588310081B8FD/%24File/53_a_ksiazka_bis.pdf\",\n",
        "\"http://orka2.sejm.gov.pl/StenoInter9.nsf/0/1CD4455DAF31F240C12588320070BF08/%24File/53_b_ksiazka_bis.pdf\",\n",
        "\"http://orka2.sejm.gov.pl/StenoInter9.nsf/0/E85023105709BAFEC125883F00822057/%24File/54_a_ksiazka_bis.pdf\",\n",
        "\"http://orka2.sejm.gov.pl/StenoInter9.nsf/0/0D79BA1A809A19BCC1258840007656EF/%24File/54_b_ksiazka_bis.pdf\",\n",
        "\"http://orka2.sejm.gov.pl/StenoInter9.nsf/0/0C3976D284429083C125884D0080441D/%24File/55_a_ksiazka_bis.pdf\",\n",
        "\"http://orka2.sejm.gov.pl/StenoInter9.nsf/0/AAC48FDD0F632AA9C125884F0002442B/%24File/55_b_ksiazka_bis.pdf\",\n",
        "\"http://orka2.sejm.gov.pl/StenoInter9.nsf/0/FB085AE602AD9553C125885B007B2B9A/%24File/56_a_ksiazka_bis.pdf\",\n",
        "\"http://orka2.sejm.gov.pl/StenoInter9.nsf/0/290970F0FB88654EC125885C006D8ABA/%24File/56_b_ksiazka_bis.pdf\",\n",
        "\"http://orka2.sejm.gov.pl/StenoInter9.nsf/0/C87DBB14A4831DEEC125886A000A4F85/%24File/57_a_ksiazka_bis.pdf\",\n",
        "\"http://orka2.sejm.gov.pl/StenoInter9.nsf/0/A8B5CE2DD0CEEB58C125886A006B9506/%24File/57_b_ksiazka_bis.pdf\",\n",
        "\"http://orka2.sejm.gov.pl/StenoInter9.nsf/0/025B895758184B20C12588780008FC63/%24File/58_a_ksiazka_bis.pdf\",\n",
        "\"http://orka2.sejm.gov.pl/StenoInter9.nsf/0/A22B3129F9AF1D23C125887900026EA1/%24File/58_b_ksiazka_bis.pdf\",\n",
        "\"http://orka2.sejm.gov.pl/StenoInter9.nsf/0/9EEAE31EF0B3E371C125888600051F93/%24File/59_a_ksiazka_bis.pdf\",\n",
        "\"http://orka2.sejm.gov.pl/StenoInter9.nsf/0/19713606EF4E5163C12588870005B88B/%24File/59_b_ksiazka_bis.pdf\",\n",
        "\"http://orka2.sejm.gov.pl/StenoInter9.nsf/0/98BD4F12397263A4C1258887006C2603/%24File/59_c_ksiazka_bis.pdf\",\n",
        "\"http://orka2.sejm.gov.pl/StenoInter9.nsf/0/EED60A8AB4C9A60DC1258895005B025C/%24File/59_d_ksiazka_bis.pdf\",\n",
        "\"http://orka2.sejm.gov.pl/StenoInter9.nsf/0/A1D67672E1BF8C91C12588B10083BB2A/%24File/60_a_ksiazka_bis.pdf\",\n",
        "\"http://orka2.sejm.gov.pl/StenoInter9.nsf/0/B82005AB8E97839CC12588BD0080ABE6/%24File/61_a_ksiazka_bis.pdf\",\n",
        "\"http://orka2.sejm.gov.pl/StenoInter9.nsf/0/5F8C25E419BE74F0C12588BE007EFD31/%24File/61_b_ksiazka_bis.pdf\",\n",
        "\"http://orka2.sejm.gov.pl/StenoInter9.nsf/0/5CA5AC280E5AD486C12588BF00627045/%24File/61_c_ksiazka_bis.pdf\",\n",
        "\"http://orka2.sejm.gov.pl/StenoInter9.nsf/0/A80D5098E6D049D5C12588CC0003628C/%24File/62_a_ksiazka_bis.pdf\",\n",
        "\"http://orka2.sejm.gov.pl/StenoInter9.nsf/0/FF29A5AEB5A533BBC12588CC007D33B1/%24File/62_b_ksiazka_bis.pdf\",\n",
        "\"http://orka2.sejm.gov.pl/StenoInter9.nsf/0/0D19A7FA1C17322FC12588D20063E98D/%24File/63_a_ksiazka_bis.pdf\",\n",
        "\"http://orka2.sejm.gov.pl/StenoInter9.nsf/0/5F5CDB09E0E3C004C12588D300832741/%24File/63_b_ksiazka_bis.pdf\",\n",
        "\"http://orka2.sejm.gov.pl/StenoInter9.nsf/0/4520E92A11878F9EC12588D40072ED79/%24File/63_c_ksiazka_bis.pdf\",\n",
        "\"http://orka2.sejm.gov.pl/StenoInter9.nsf/0/61AEACAC0F0EB783C12588E1006F209E/%24File/63_d_ksiazka_bis.pdf\",\n",
        "\"http://orka2.sejm.gov.pl/StenoInter9.nsf/0/29C053B184E28AF3C12588E7007111DC/%24File/64_a_ksiazka_bis.pdf\",\n",
        "\"http://orka2.sejm.gov.pl/StenoInter9.nsf/0/9CF6593F4B5A2C88C12588E8007BB520/%24File/64_b_ksiazka_bis.pdf\",\n",
        "\"http://orka2.sejm.gov.pl/StenoInter9.nsf/0/E74CD0A856CE8ECEC12588EF0082EAAB/%24File/65_a_ksiazka_bis.pdf\",\n",
        "\"http://orka2.sejm.gov.pl/StenoInter9.nsf/0/99DDC36B73FE854DC12588F0007BFA8D/%24File/65_b_ksiazka_bis.pdf\",\n",
        "\"http://orka2.sejm.gov.pl/StenoInter9.nsf/0/F59BDEEBA5CF7778C12588FB007A1C39/%24File/66_a_ksiazka_bis.pdf\",\n",
        "\"http://orka2.sejm.gov.pl/StenoInter9.nsf/0/AFCDC254D0502D5BC12588FD000B1C98/%24File/66_b_ksiazka_bis.pdf\",\n",
        "\"http://orka2.sejm.gov.pl/StenoInter9.nsf/0/F3359CCBC3FA0D65C125890B00014ED8/%24File/67_a_ksiazka_bis.pdf\",\n",
        "\"http://orka2.sejm.gov.pl/StenoInter9.nsf/0/C68898C5DCF95581C125890C000D1683/%24File/67_b_ksiazka_bis.pdf\",\n",
        "\"http://orka2.sejm.gov.pl/StenoInter9.nsf/0/8453323F0453AD9CC125891800065DA9/%24File/68_a_ksiazka_bis.pdf\",\n",
        "\"http://orka2.sejm.gov.pl/StenoInter9.nsf/0/CE22C5A623F6CBD6C1258919000E2945/%24File/68_b_ksiazka_bis.pdf\",\n",
        "\"http://orka2.sejm.gov.pl/StenoInter9.nsf/0/3E677893AC088233C125891900805104/%24File/69_ksiazka_bis.pdf\",\n",
        "\n",
        "\"http://orka2.sejm.gov.pl/StenoInter9.nsf/0/5831AA1C3C05A182C12589350006AAC3/%24File/70_a_ksiazka_bis.pdf\",\n",
        "\"http://orka2.sejm.gov.pl/StenoInter9.nsf/0/88C57111098AD3B9C1258935007FDF96/%24File/70_b_ksiazka_bis.pdf\",\n",
        "\"http://orka2.sejm.gov.pl/StenoInter9.nsf/0/18AEDC7C004717ABC125893600585A56/%24File/70_c_ksiazka_bis.pdf\",\n",
        "\"http://orka2.sejm.gov.pl/StenoInter9.nsf/0/DB62B943CAD30562C125894200828650/%24File/71_a_ksiazka_bis.pdf\",\n",
        "\"http://orka2.sejm.gov.pl/StenoInter9.nsf/0/CAF1153D301B0F44C125894300833808/%24File/71_b_ksiazka_bis.pdf\",\n",
        "\"http://orka2.sejm.gov.pl/StenoInter9.nsf/0/8918685EB68C8FD3C125894F007BE32E/%24File/72_a_ksiazka_bis.pdf\",\n",
        "\"http://orka2.sejm.gov.pl/StenoInter9.nsf/0/08F98B0FCC5B5C00C1258950008027FD/%24File/72_b_ksiazka_bis.pdf\",\n",
        "\"http://orka2.sejm.gov.pl/StenoInter9.nsf/0/2CA1A113564BA9CEC125895100593D73/%24File/72_c_ksiazka_bis.pdf\",\n",
        "\"http://orka2.sejm.gov.pl/StenoInter9.nsf/0/807EE4F74A8E859CC125896B00835C23/%24File/73_a_ksiazka_bis.pdf\",\n",
        "\"http://orka2.sejm.gov.pl/StenoInter9.nsf/0/3FDEE3500F01764AC125896D00010C89/%24File/73_b_ksiazka_bis.pdf\",\n",
        "\"http://orka2.sejm.gov.pl/StenoInter9.nsf/0/90F5C53E73E7C8CFC125896D007C883D/%24File/73_c_ksiazka_bis.pdf\",\n",
        "\"http://orka2.sejm.gov.pl/StenoInter9.nsf/0/D5F172EDA33FEF4CC12589900009D417/%24File/74_a_ksiazka_bis.pdf\",\n",
        "\"http://orka2.sejm.gov.pl/StenoInter9.nsf/0/67D5771909333250C1258991000832A7/%24File/74_b_ksiazka_bis.pdf\",\n",
        "\"http://orka2.sejm.gov.pl/StenoInter9.nsf/0/8756C7E60F642DD8C1258991007D41F5/%24File/74_c_ksiazka_bis.pdf\",\n",
        "\"http://orka2.sejm.gov.pl/StenoInter9.nsf/0/F5B2909D157BC526C12589AA00817005/%24File/75_ksiazka_bis.pdf\",\n",
        "\"http://orka2.sejm.gov.pl/StenoInter9.nsf/0/825733C16E006AD3C12589BA00034BD3/%24File/76_a_ksiazka_bis.pdf\",\n",
        "\"http://orka2.sejm.gov.pl/StenoInter9.nsf/0/33D4D4057336B349C12589BB000012AB/%24File/76_b_ksiazka_bis.pdf\",\n",
        "\"http://orka2.sejm.gov.pl/StenoInter9.nsf/0/A8252EDB2A2633B6C12589BB00769294/%24File/76_c_ksiazka_bis.pdf\",\n",
        "\"http://orka2.sejm.gov.pl/StenoInter9.nsf/0/9FFE596467FB1C82C12589CD007A7F01/%24File/77_a_ksiazka_bis.pdf\",\n",
        "\"http://orka2.sejm.gov.pl/StenoInter9.nsf/0/320835F35FB65B3EC12589CE006CF6C4/%24File/77_b_ksiazka_bis.pdf\",\n",
        "\"http://orka2.sejm.gov.pl/StenoInter9.nsf/0/58CB3A35664E4A76C12589D00006DCB6/%24File/77_c_ksiazka_bis.pdf\",\n",
        "\"http://orka2.sejm.gov.pl/StenoInter9.nsf/0/51EC8AB69D7581F7C12589D000786EBC/%24File/77_d_ksiazka_bis.pdf\",\n",
        "\"http://orka2.sejm.gov.pl/StenoInter9.nsf/0/E77C7C29DF01BA1DC12589E500036196/%24File/78_a_ksiazka_bis.pdf\",\n",
        "\"http://orka2.sejm.gov.pl/StenoInter9.nsf/0/22C6BA22EF9FF7E2C12589E600017B12/%24File/78_b_ksiazka_bis.pdf\",\n",
        "\"http://orka2.sejm.gov.pl/StenoInter9.nsf/0/8868CB8DC382EB0CC12589EA00046163/%24File/79_a_ksiazka_bis.pdf\",\n",
        "\"http://orka2.sejm.gov.pl/StenoInter9.nsf/0/A781209E9F559619C12589EB0008CE8A/%24File/79_b_ksiazka_bis.pdf\",\n",
        "\"http://orka2.sejm.gov.pl/StenoInter9.nsf/0/9064FCF65A5CF59AC12589EB007DD6E1/%24File/79_c_ksiazka_bis.pdf\",\n",
        "\"http://orka2.sejm.gov.pl/StenoInter9.nsf/0/F5B937C5770898A9C12589FA00803F77/%24File/80_ksiazka_bis.pdf\",\n",
        "\"http://orka2.sejm.gov.pl/StenoInter9.nsf/0/DE9344493AB83E5AC1258A0D006D1C37/%24File/81_a_ksiazka_bis.pdf\",\n",
        "\"http://orka2.sejm.gov.pl/StenoInter9.nsf/0/D70700434A1A535AC1258A0E00764CC6/%24File/81_b_ksiazka_bis.pdf\",\n",
        "\"http://orka2.sejm.gov.pl/StenoInter9.nsf/0/AB07C144A9210C23C1258A1B00747378/%24File/81_c_ksiazka_bis.pdf\"\n",
        "]"
      ]
    },
    {
      "cell_type": "markdown",
      "metadata": {
        "id": "FUZWexrlsws-"
      },
      "source": [
        "## Kod: przygotowanie"
      ]
    },
    {
      "cell_type": "code",
      "execution_count": null,
      "metadata": {
        "colab": {
          "base_uri": "https://localhost:8080/",
          "height": 35
        },
        "id": "fXFulLDw9SZD",
        "outputId": "cbefb8ed-4856-42fe-a1db-2ef9cc224792"
      },
      "outputs": [
        {
          "data": {
            "text/html": [
              "\n",
              "  <style>\n",
              "    pre {\n",
              "        white-space: pre-wrap;\n",
              "    }\n",
              "  </style>\n",
              "  "
            ],
            "text/plain": [
              "<IPython.core.display.HTML object>"
            ]
          },
          "metadata": {},
          "output_type": "display_data"
        },
        {
          "name": "stdout",
          "output_type": "stream",
          "text": [
            "http://orka2.sejm.gov.pl/StenoInter9.nsf/0/65E0AEB97E76894EC12584B800149932/%24File/01_c_ksiazka_bis.pdf\n"
          ]
        }
      ],
      "source": [
        "print(posiedzenia_2019[2])"
      ]
    },
    {
      "cell_type": "code",
      "execution_count": null,
      "metadata": {
        "id": "Q5mCF9s47gyP"
      },
      "outputs": [],
      "source": [
        "from IPython.display import HTML, display\n",
        "\n",
        "def set_css():\n",
        "  display(HTML('''\n",
        "  <style>\n",
        "    pre {\n",
        "        white-space: pre-wrap;\n",
        "    }\n",
        "  </style>\n",
        "  '''))\n",
        "get_ipython().events.register('pre_run_cell', set_css)"
      ]
    },
    {
      "cell_type": "code",
      "execution_count": null,
      "metadata": {
        "colab": {
          "base_uri": "https://localhost:8080/",
          "height": 348
        },
        "id": "IjQrN12JMye4",
        "outputId": "bcadc9a1-aa17-4434-d80f-917b6a16c2f5"
      },
      "outputs": [
        {
          "output_type": "display_data",
          "data": {
            "text/plain": [
              "<IPython.core.display.HTML object>"
            ],
            "text/html": [
              "\n",
              "  <style>\n",
              "    pre {\n",
              "        white-space: pre-wrap;\n",
              "    }\n",
              "  </style>\n",
              "  "
            ]
          },
          "metadata": {}
        },
        {
          "output_type": "stream",
          "name": "stdout",
          "text": [
            "Collecting pdfplumber\n",
            "  Downloading pdfplumber-0.11.1-py3-none-any.whl (57 kB)\n",
            "\u001b[2K     \u001b[90m━━━━━━━━━━━━━━━━━━━━━━━━━━━━━━━━━━━━━━━━\u001b[0m \u001b[32m57.9/57.9 kB\u001b[0m \u001b[31m1.3 MB/s\u001b[0m eta \u001b[36m0:00:00\u001b[0m\n",
            "\u001b[?25hCollecting pdfminer.six==20231228 (from pdfplumber)\n",
            "  Downloading pdfminer.six-20231228-py3-none-any.whl (5.6 MB)\n",
            "\u001b[2K     \u001b[90m━━━━━━━━━━━━━━━━━━━━━━━━━━━━━━━━━━━━━━━━\u001b[0m \u001b[32m5.6/5.6 MB\u001b[0m \u001b[31m26.1 MB/s\u001b[0m eta \u001b[36m0:00:00\u001b[0m\n",
            "\u001b[?25hRequirement already satisfied: Pillow>=9.1 in /usr/local/lib/python3.10/dist-packages (from pdfplumber) (9.4.0)\n",
            "Collecting pypdfium2>=4.18.0 (from pdfplumber)\n",
            "  Downloading pypdfium2-4.30.0-py3-none-manylinux_2_17_x86_64.manylinux2014_x86_64.whl (2.8 MB)\n",
            "\u001b[2K     \u001b[90m━━━━━━━━━━━━━━━━━━━━━━━━━━━━━━━━━━━━━━━━\u001b[0m \u001b[32m2.8/2.8 MB\u001b[0m \u001b[31m38.0 MB/s\u001b[0m eta \u001b[36m0:00:00\u001b[0m\n",
            "\u001b[?25hRequirement already satisfied: charset-normalizer>=2.0.0 in /usr/local/lib/python3.10/dist-packages (from pdfminer.six==20231228->pdfplumber) (3.3.2)\n",
            "Requirement already satisfied: cryptography>=36.0.0 in /usr/local/lib/python3.10/dist-packages (from pdfminer.six==20231228->pdfplumber) (42.0.8)\n",
            "Requirement already satisfied: cffi>=1.12 in /usr/local/lib/python3.10/dist-packages (from cryptography>=36.0.0->pdfminer.six==20231228->pdfplumber) (1.16.0)\n",
            "Requirement already satisfied: pycparser in /usr/local/lib/python3.10/dist-packages (from cffi>=1.12->cryptography>=36.0.0->pdfminer.six==20231228->pdfplumber) (2.22)\n",
            "Installing collected packages: pypdfium2, pdfminer.six, pdfplumber\n",
            "Successfully installed pdfminer.six-20231228 pdfplumber-0.11.1 pypdfium2-4.30.0\n"
          ]
        }
      ],
      "source": [
        "# pip install pdfplumber\n",
        "# import pdfplumber\n"
      ]
    },
    {
      "cell_type": "code",
      "execution_count": null,
      "metadata": {
        "colab": {
          "base_uri": "https://localhost:8080/",
          "height": 17
        },
        "id": "81epi3bqmK4N",
        "outputId": "b82445f1-ae9e-45f5-b4b6-6a9a48b799b3"
      },
      "outputs": [
        {
          "data": {
            "text/html": [
              "\n",
              "  <style>\n",
              "    pre {\n",
              "        white-space: pre-wrap;\n",
              "    }\n",
              "  </style>\n",
              "  "
            ],
            "text/plain": [
              "<IPython.core.display.HTML object>"
            ]
          },
          "metadata": {},
          "output_type": "display_data"
        }
      ],
      "source": [
        "# from google.colab import drive\n",
        "# drive.mount('/content/drive')"
      ]
    },
    {
      "cell_type": "code",
      "source": [
        "# filename = \"segments_0_20.pkl\"\n",
        "# with open(filename, 'wb') as f:\n",
        "#     pickle.dump(segment_list, f)\n",
        "# files.download(filename)\n",
        "# filename2 = \"segments_21_60.pkl\"\n",
        "# with open(filename2, 'wb') as f:\n",
        "#     pickle.dump(segment_list, f)\n",
        "# files.download(filename2)\n",
        "# filename3 = \"segments_61_120.pkl\"\n",
        "# with open(filename3, 'wb') as f:\n",
        "#     pickle.dump(segment_list, f)\n",
        "# files.download(filename3)\n",
        "# filename4 = \"segments_121_180.pkl\"\n",
        "# with open(filename4, 'wb') as f:\n",
        "#     pickle.dump(segment_list, f)\n",
        "# files.download(filename4)\n",
        "# filename5 = \"segments_181_195.pkl\"\n",
        "# with open(filename5, 'wb') as f:\n",
        "#     pickle.dump(segment_list, f)\n",
        "# files.download(filename5)\n",
        "\n",
        "# with open(filename, 'rb') as f:\n",
        "#     segments_full = pickle.load(f)\n",
        "# print(len(segments_full))\n",
        "# with open(filename2, 'rb') as f:\n",
        "#     segments_full += pickle.load(f)\n",
        "# print(len(segments_full))\n",
        "# with open(filename3, 'rb') as f:\n",
        "#     segments_full += pickle.load(f)\n",
        "# print(len(segments_full))\n",
        "# with open(filename4, 'rb') as f:\n",
        "#     segments_full += pickle.load(f)\n",
        "# print(len(segments_full))\n",
        "# with open(filename5, 'rb') as f:\n",
        "#     segments_full += pickle.load(f)\n",
        "# print(len(segments_full))\n",
        "\n",
        "# filename_ultimate = \"segments_all.pkl\"\n",
        "# with open(filename_ultimate, 'wb') as f:\n",
        "#     pickle.dump(segments_full, f)\n",
        "# files.download(filename_ultimate)"
      ],
      "metadata": {
        "id": "W84cR8HJwQud"
      },
      "execution_count": null,
      "outputs": []
    },
    {
      "cell_type": "code",
      "source": [
        "# for address in url_list:\n",
        "#     segment_list = load_pdfs(small_url_list)\n",
        "#     ppl, stm = process_segments(segment_list)\n",
        "#     word_counts = calc_words_count(ppl, stm)\n",
        "#     keyword_counts = calc_keywords_count(ppl, stm, keywords)"
      ],
      "metadata": {
        "id": "swKsnrO-wU4j"
      },
      "execution_count": null,
      "outputs": []
    },
    {
      "cell_type": "code",
      "execution_count": null,
      "metadata": {
        "colab": {
          "base_uri": "https://localhost:8080/",
          "height": 17
        },
        "id": "_DOOGCIMwwAj",
        "outputId": "d1ef0b01-d79a-46d2-e27c-d8a14b0b883d"
      },
      "outputs": [
        {
          "output_type": "display_data",
          "data": {
            "text/plain": [
              "<IPython.core.display.HTML object>"
            ],
            "text/html": [
              "\n",
              "  <style>\n",
              "    pre {\n",
              "        white-space: pre-wrap;\n",
              "    }\n",
              "  </style>\n",
              "  "
            ]
          },
          "metadata": {}
        }
      ],
      "source": [
        "from google.colab import drive\n",
        "import re\n",
        "from io import BytesIO\n",
        "import requests\n",
        "from collections import defaultdict\n",
        "from google.colab import files\n",
        "import pickle\n",
        "import matplotlib.pyplot as plt\n",
        "\n",
        "# Ścieżka do pliku PDF\n",
        "path_steno = \"/content/drive/MyDrive/steno1.pdf\"\n"
      ]
    },
    {
      "cell_type": "code",
      "execution_count": null,
      "metadata": {
        "colab": {
          "base_uri": "https://localhost:8080/",
          "height": 17
        },
        "id": "pPq12uX36RzE",
        "outputId": "e91ec862-8b20-45b4-afd4-47e04251a705"
      },
      "outputs": [
        {
          "output_type": "display_data",
          "data": {
            "text/plain": [
              "<IPython.core.display.HTML object>"
            ],
            "text/html": [
              "\n",
              "  <style>\n",
              "    pre {\n",
              "        white-space: pre-wrap;\n",
              "    }\n",
              "  </style>\n",
              "  "
            ]
          },
          "metadata": {}
        }
      ],
      "source": [
        "pdf_url1 = \"http://orka2.sejm.gov.pl/StenoInter9.nsf/0/338B1675E5BB2F44C12586420009E2ED/%24File/24_ksiazka_bis.pdf\"\n",
        "pdf_url2 = \"http://orka2.sejm.gov.pl/StenoInter9.nsf/0/8BDAFFEA1CC4378CC12584F80001B73D/%24File/04_a_ksiazka_bis.pdf\"\n",
        "\n",
        "url_list = [pdf_url2]\n",
        "\n",
        "top_margin = 50\n",
        "bottom_margin = 50\n",
        "left_margin = 50\n",
        "right_margin = 50\n",
        "column_gap = 20\n",
        "d=\":\"\n",
        "lista_partii = [\"PIS\", \"KO\", \"PSL\", \"LEWICA\", \"KONF\", \"P2050\", \"rest\"]\n",
        "\n",
        "moral_keywords = [\"kanalia\", \"cham\", \"idiot\", \"demoraliz\"]\n",
        "emotional_keywords = [\"zdrad\", \"zdraj\", \"hańba\", \"chaniebn\", \"oszus\", \"oszuk\"]\n",
        "negative_keywords = [\"koryto\", \"koryc\", \"bękart\"]\n",
        "anti_eu_keywords = [\"eurokra\", \"eurosoj\", \"eurosow\", \"dyktat\"]\n",
        "anti_elite_keywords = [\"elity\", \"elitom\", \"elitach\" \"establishment\", \"oligarch\", \"skorump\", \"korup\", \"układ\"]\n",
        "conspiracy_vocabulary = [\"spisek\", \"spisk\", \"globaliś\", \"globalis\"]\n",
        "catastrophic_vocabulary = [\"katastrof\", \"zniszcz\", \"zagład\", \"ostatecz\"]\n",
        "\n",
        "all_vocabulary = moral_keywords + emotional_keywords + negative_keywords + anti_eu_keywords + anti_elite_keywords + conspiracy_vocabulary + catastrophic_vocabulary\n",
        "\n",
        "valid_tokens = [\"Poseł\", \"Marszałek:\", \"Wicemarszałek\", \"Sprawozdawca\", \"Anna Maria Żukowska:\", \"Marszałek\", \"Władysław Teofil Bartoszewski\"]\n",
        "keywords = negative_keywords"
      ]
    },
    {
      "cell_type": "markdown",
      "metadata": {
        "id": "DV8p4y2vO42R"
      },
      "source": [
        "## Kod: funkcje"
      ]
    },
    {
      "cell_type": "code",
      "execution_count": null,
      "metadata": {
        "colab": {
          "base_uri": "https://localhost:8080/",
          "height": 17
        },
        "id": "LTplrQj7IcJo",
        "outputId": "b6e182ab-dd5c-48d7-eb26-bdb0691532d3"
      },
      "outputs": [
        {
          "output_type": "display_data",
          "data": {
            "text/plain": [
              "<IPython.core.display.HTML object>"
            ],
            "text/html": [
              "\n",
              "  <style>\n",
              "    pre {\n",
              "        white-space: pre-wrap;\n",
              "    }\n",
              "  </style>\n",
              "  "
            ]
          },
          "metadata": {}
        }
      ],
      "source": [
        "def load_pdfs(urls):\n",
        "    segment_list_ = []\n",
        "    i = 0\n",
        "    for url in urls:\n",
        "        response = requests.get(url)\n",
        "        if response.status_code != 200:\n",
        "            print(\"warning, pdf download failed: \", url)\n",
        "        else:\n",
        "            with pdfplumber.open(BytesIO(response.content)) as pdf:\n",
        "                for page in pdf.pages:\n",
        "                    left_text, right_text = extract_text_from_cropped_page(page)\n",
        "                    segment_list_.append(left_text)\n",
        "                    segment_list_.append(right_text)\n",
        "            i += 1\n",
        "            print(f\"{i}/{len(urls)} pdf download completed: \", url)\n",
        "\n",
        "    return segment_list_\n"
      ]
    },
    {
      "cell_type": "code",
      "execution_count": null,
      "metadata": {
        "colab": {
          "base_uri": "https://localhost:8080/",
          "height": 17
        },
        "id": "q3oDmTSDJgqx",
        "outputId": "386ac15e-4be2-40cb-8cd1-de56ee8f1f6c"
      },
      "outputs": [
        {
          "output_type": "display_data",
          "data": {
            "text/plain": [
              "<IPython.core.display.HTML object>"
            ],
            "text/html": [
              "\n",
              "  <style>\n",
              "    pre {\n",
              "        white-space: pre-wrap;\n",
              "    }\n",
              "  </style>\n",
              "  "
            ]
          },
          "metadata": {}
        }
      ],
      "source": [
        "def process_segments(segments):\n",
        "    wypowiedzi = []\n",
        "    osoby = [\"Marszałek\"]\n",
        "    segment_str1 = \"\\n\".join(segments)\n",
        "    segment_str2 = segment_str1.split(\"Marszałek:\", 1)[1]\n",
        "    segment_str3 = segment_str2.replace(\"-\\n\", \"\").replace(\"\\n\", \" \")\n",
        "    segment_str5 = re.sub(\"[\\(\\[].*?[\\)\\]]\", \"\", segment_str3)\n",
        "    processed_segments = [e+d for e in segment_str5.split(d) if e]\n",
        "\n",
        "    for segment in processed_segments:\n",
        "        tmp = return_wypowiedz(segment)\n",
        "        if tmp != None:\n",
        "            osoby.append(tmp)\n",
        "            segment = cut_osoba(segment)\n",
        "        else:\n",
        "            osoby.append(\"kontynuacja powyższego\")\n",
        "        wypowiedzi.append(segment)\n",
        "\n",
        "    osoby, wypowiedzi = process_lists(osoby, wypowiedzi)\n",
        "    osoby, wypowiedzi = remove_neutrals(osoby, wypowiedzi)\n",
        "\n",
        "    return osoby, wypowiedzi"
      ]
    },
    {
      "cell_type": "code",
      "execution_count": null,
      "metadata": {
        "colab": {
          "base_uri": "https://localhost:8080/",
          "height": 17
        },
        "id": "QKn6D1OrvtE6",
        "outputId": "a9a00384-8cb5-4d6d-ac08-c0e74fe9f35a"
      },
      "outputs": [
        {
          "output_type": "display_data",
          "data": {
            "text/plain": [
              "<IPython.core.display.HTML object>"
            ],
            "text/html": [
              "\n",
              "  <style>\n",
              "    pre {\n",
              "        white-space: pre-wrap;\n",
              "    }\n",
              "  </style>\n",
              "  "
            ]
          },
          "metadata": {}
        }
      ],
      "source": [
        "def extract_text_from_cropped_page(page):\n",
        "    width = page.width\n",
        "    height = page.height\n",
        "    column_width = (width - left_margin - right_margin - column_gap) / 2\n",
        "\n",
        "    left_column_box = (\n",
        "        left_margin,\n",
        "        top_margin,\n",
        "        left_margin + column_width,\n",
        "        height - bottom_margin)\n",
        "    right_column_box = (\n",
        "        left_margin + column_width + column_gap,\n",
        "        top_margin,\n",
        "        width - right_margin,\n",
        "        height - bottom_margin)\n",
        "\n",
        "    left_column = page.within_bbox(left_column_box)\n",
        "    right_column = page.within_bbox(right_column_box)\n",
        "    left_text = left_column.extract_text()\n",
        "    right_text = right_column.extract_text()\n",
        "\n",
        "    return left_text, right_text\n",
        "\n",
        "def return_wypowiedz(text_):\n",
        "    words = text_.split()\n",
        "    last_words = words[-4:]\n",
        "    result = ' '.join(last_words)\n",
        "    found = False\n",
        "    found_words = []\n",
        "    for substring in valid_tokens:\n",
        "        for item in last_words:\n",
        "            if substring in item:\n",
        "                found = True\n",
        "            if found:\n",
        "                found_words.append(item)\n",
        "        if found:\n",
        "            return \" \".join(found_words)[:-1]\n",
        "    return None\n",
        "\n",
        "def cut_osoba(text_):\n",
        "    words = text_.split()\n",
        "    str_start, str_end = words[:-4], words[-4:]\n",
        "\n",
        "    for i in range(len(str_end)):\n",
        "        if str_end[i] in valid_tokens:\n",
        "            return \" \".join(str_start)\n",
        "        else:\n",
        "            str_start.append(str(str_end[i]))\n",
        "    return \" \".join(str_start)\n",
        "\n",
        "def process_lists(list1, list2):\n",
        "    result_list1 = []\n",
        "    result_list2 = []\n",
        "    i = 0\n",
        "    while i < len(list2):\n",
        "        if list1[i] == \"kontynuacja powyższego\":\n",
        "            if result_list2:\n",
        "                result_list2[-1] += list2[i]\n",
        "        else:\n",
        "            result_list2.append(list2[i])\n",
        "            result_list1.append(list1[i])\n",
        "        i += 1\n",
        "    return result_list1, result_list2\n",
        "\n",
        "def remove_neutrals(osoby, wypowiedzi):\n",
        "    new_osoby = []\n",
        "    new_wypowiedzi = []\n",
        "    neutrals = [\"Marszałek:\", \"Wicemarszałek\", \"Sprawozdawca\", \"Marszałek\"]\n",
        "    for os, wy in zip(osoby, wypowiedzi):\n",
        "        if not any(n in os for n in neutrals):\n",
        "            new_osoby.append(os)\n",
        "            new_wypowiedzi.append(wy)\n",
        "    return new_osoby, new_wypowiedzi"
      ]
    },
    {
      "cell_type": "code",
      "execution_count": null,
      "metadata": {
        "colab": {
          "base_uri": "https://localhost:8080/",
          "height": 17
        },
        "id": "1w4VuiaN46ck",
        "outputId": "1410ef09-742a-4f9d-fdd4-ecea9d44fef9"
      },
      "outputs": [
        {
          "output_type": "display_data",
          "data": {
            "text/plain": [
              "<IPython.core.display.HTML object>"
            ],
            "text/html": [
              "\n",
              "  <style>\n",
              "    pre {\n",
              "        white-space: pre-wrap;\n",
              "    }\n",
              "  </style>\n",
              "  "
            ]
          },
          "metadata": {}
        }
      ],
      "source": [
        "\n",
        "def calc_keywords_count(osoby, wypowiedzi, keywords):\n",
        "    posel_count = []\n",
        "    osoby_i_slowa = []\n",
        "    for os, wy in zip(osoby, wypowiedzi):\n",
        "        for keyword in keywords:\n",
        "            if keyword in wy:\n",
        "                osoby_i_slowa.append((os, keyword))\n",
        "    outp = check_parties(osoby_i_slowa)\n",
        "    # for p in outp:\n",
        "    #     for pp in p:\n",
        "    #         print(pp)\n",
        "\n",
        "    ret_list = []\n",
        "    for out in outp:\n",
        "        if out == []:\n",
        "            ret_list.append(0)\n",
        "        else:\n",
        "            ret_list.append(count_y_values(out))\n",
        "\n",
        "    token_counts = re.findall(r'\\b\\d+\\b', str(ret_list), re.M)\n",
        "    token_counts = [eval(i) for i in token_counts]\n",
        "    return token_counts\n",
        "\n",
        "\n",
        "def check_parties(osoby_i_slowa):\n",
        "    pis_checked = check_party(pis_osoby, \"PIS\", osoby_i_slowa)\n",
        "    ko_checked = check_party(ko_osoby, \"KO\", osoby_i_slowa)\n",
        "    psl_checked = check_party(psl_osoby, \"PSL\", osoby_i_slowa)\n",
        "    lew_checked = check_party(lew_osoby, \"LEWICA\", osoby_i_slowa)\n",
        "    kon_checked = check_party(konf_osoby, \"KONF\", osoby_i_slowa)\n",
        "    P2050_checked = check_party(P2050_osoby, \"P2050\", osoby_i_slowa)\n",
        "    rest_checked = check_party(pozostali, \"REST\", osoby_i_slowa)\n",
        "\n",
        "    return [pis_checked, ko_checked, psl_checked, lew_checked, kon_checked, P2050_checked, rest_checked]\n",
        "\n",
        "def check_party(partyjni, party_str, os_i_sl):\n",
        "    \"\"\"\n",
        "    return tokens with person's name, party and found keyword\n",
        "    os_i_sl - list of tuples (person's name, keyword)\n",
        "    \"\"\"\n",
        "    party_tokens = []\n",
        "    for tpl in os_i_sl:\n",
        "        os = tpl[0]\n",
        "        keyword = tpl[1]\n",
        "        for name in partyjni:\n",
        "            # print(os.split()[-1])\n",
        "            if os.split()[-1] in name:\n",
        "                if name.split()[1] in os:\n",
        "                    populism_token = (name, party_str, keyword)\n",
        "                    party_tokens.append(populism_token)\n",
        "    return party_tokens\n",
        "\n",
        "def count_y_values(tuple_list):\n",
        "    counts = defaultdict(int)\n",
        "    for _, x, _ in tuple_list:\n",
        "        counts[x] += 1\n",
        "\n",
        "    return dict(counts).values()"
      ]
    },
    {
      "cell_type": "code",
      "execution_count": null,
      "metadata": {
        "colab": {
          "base_uri": "https://localhost:8080/",
          "height": 17
        },
        "id": "R59VWFtkAC1i",
        "outputId": "532b9953-7686-4cef-ef3d-7e01c346b79e"
      },
      "outputs": [
        {
          "output_type": "display_data",
          "data": {
            "text/plain": [
              "<IPython.core.display.HTML object>"
            ],
            "text/html": [
              "\n",
              "  <style>\n",
              "    pre {\n",
              "        white-space: pre-wrap;\n",
              "    }\n",
              "  </style>\n",
              "  "
            ]
          },
          "metadata": {}
        }
      ],
      "source": [
        "def calc_words_count(osoby, wypowiedzi):\n",
        "    cc = []\n",
        "    cc.append(calc_1_party(osoby, wypowiedzi, pis_osoby))\n",
        "    cc.append(calc_1_party(osoby, wypowiedzi, ko_osoby))\n",
        "    cc.append(calc_1_party(osoby, wypowiedzi, psl_osoby))\n",
        "    cc.append(calc_1_party(osoby, wypowiedzi, lew_osoby))\n",
        "    cc.append(calc_1_party(osoby, wypowiedzi, konf_osoby))\n",
        "    cc.append(calc_1_party(osoby, wypowiedzi, P2050_osoby))\n",
        "    cc.append(calc_1_party(osoby, wypowiedzi, pozostali))\n",
        "\n",
        "    counts_list = []\n",
        "\n",
        "    for c in cc:\n",
        "        words = \" \".join(c).split()\n",
        "        word_count = len(words)\n",
        "        counts_list.append(word_count)\n",
        "\n",
        "    return counts_list\n",
        "\n",
        "def calc_1_party(osoby, wypowiedzi, partyjni):\n",
        "    partia_text = []\n",
        "    for os, wy in zip(osoby, wypowiedzi):\n",
        "        for name in partyjni:\n",
        "            if os.split()[-1] in name:\n",
        "                if name.split()[1] in os:\n",
        "                    partia_text.append(wy)\n",
        "                    break\n",
        "    return partia_text\n",
        "\n"
      ]
    },
    {
      "cell_type": "code",
      "execution_count": null,
      "metadata": {
        "colab": {
          "base_uri": "https://localhost:8080/",
          "height": 35
        },
        "id": "ol0-XdH6MYAw",
        "outputId": "7ca1ef56-7fd3-456e-888b-0fdb712e8856"
      },
      "outputs": [
        {
          "data": {
            "text/html": [
              "\n",
              "  <style>\n",
              "    pre {\n",
              "        white-space: pre-wrap;\n",
              "    }\n",
              "  </style>\n",
              "  "
            ],
            "text/plain": [
              "<IPython.core.display.HTML object>"
            ]
          },
          "metadata": {},
          "output_type": "display_data"
        },
        {
          "name": "stdout",
          "output_type": "stream",
          "text": [
            "6392\n"
          ]
        }
      ],
      "source": [
        "print(len(segment_list))"
      ]
    },
    {
      "cell_type": "markdown",
      "metadata": {
        "id": "fwSo9yFPOrDE"
      },
      "source": [
        "## Kod: wykonanie"
      ]
    },
    {
      "cell_type": "code",
      "source": [
        "filename_ultimate = \"segments_all.pkl\"\n",
        "with open(filename_ultimate, 'rb') as f:\n",
        "    segments_full = pickle.load(f)\n",
        "print(len(segments_full))"
      ],
      "metadata": {
        "colab": {
          "base_uri": "https://localhost:8080/",
          "height": 35
        },
        "id": "7dN53WC_1VUE",
        "outputId": "e2898413-c3b0-45c4-f006-9a24f8cee1e2"
      },
      "execution_count": null,
      "outputs": [
        {
          "output_type": "display_data",
          "data": {
            "text/plain": [
              "<IPython.core.display.HTML object>"
            ],
            "text/html": [
              "\n",
              "  <style>\n",
              "    pre {\n",
              "        white-space: pre-wrap;\n",
              "    }\n",
              "  </style>\n",
              "  "
            ]
          },
          "metadata": {}
        },
        {
          "output_type": "stream",
          "name": "stdout",
          "text": [
            "42416\n"
          ]
        }
      ]
    },
    {
      "cell_type": "code",
      "source": [
        "def plot_polit(ratios, title_suffix):\n",
        "    partie = [\"PiS\", \"KO\", \"PSL\", \"Lew\", \"Konf\", \"P2050\", \"Rest\"]\n",
        "\n",
        "    plt.figure(figsize=(10, 6))\n",
        "    plt.bar(partie, ratios, color=['blue', 'orange', 'green', 'red', 'grey', 'yellow', 'cyan'])\n",
        "\n",
        "    title = \"Ratio of populist words to the total number of words spoken by Polish MPs in \\n\"\n",
        "    title += \"parliment in the 2019-2023 term by party: \"\n",
        "    title += title_suffix\n",
        "    plt.title(title)\n",
        "    plt.xlabel('Party name')\n",
        "    plt.ylabel('Words ratio')\n",
        "\n",
        "    plt.show()"
      ],
      "metadata": {
        "colab": {
          "base_uri": "https://localhost:8080/",
          "height": 17
        },
        "id": "AcTA9M-B2Tvt",
        "outputId": "ed7f6e36-f444-4538-c01f-5bf66dd83f61"
      },
      "execution_count": null,
      "outputs": [
        {
          "output_type": "display_data",
          "data": {
            "text/plain": [
              "<IPython.core.display.HTML object>"
            ],
            "text/html": [
              "\n",
              "  <style>\n",
              "    pre {\n",
              "        white-space: pre-wrap;\n",
              "    }\n",
              "  </style>\n",
              "  "
            ]
          },
          "metadata": {}
        }
      ]
    },
    {
      "cell_type": "code",
      "source": [
        "ppl, stm = process_segments(segments_full)\n",
        "word_counts = calc_words_count(ppl, stm)"
      ],
      "metadata": {
        "id": "dnVKAZcF6T8t"
      },
      "execution_count": null,
      "outputs": []
    },
    {
      "cell_type": "code",
      "execution_count": 95,
      "metadata": {
        "colab": {
          "base_uri": "https://localhost:8080/",
          "height": 714
        },
        "id": "pSXLlpJNDER3",
        "outputId": "6484abe5-388f-4289-e5ee-1b80d9a062fc"
      },
      "outputs": [
        {
          "output_type": "display_data",
          "data": {
            "text/plain": [
              "<IPython.core.display.HTML object>"
            ],
            "text/html": [
              "\n",
              "  <style>\n",
              "    pre {\n",
              "        white-space: pre-wrap;\n",
              "    }\n",
              "  </style>\n",
              "  "
            ]
          },
          "metadata": {}
        },
        {
          "output_type": "stream",
          "name": "stdout",
          "text": [
            "PIS :  0.0\n",
            "KO :  0.06771666624531852\n",
            "PSL :  0.0\n",
            "LEWICA :  0.03574901332723217\n",
            "KONF :  0.03446831758418456\n",
            "P2050 :  0.0\n",
            "rest :  0.05718975274010403\n"
          ]
        },
        {
          "output_type": "display_data",
          "data": {
            "text/plain": [
              "<Figure size 1000x600 with 1 Axes>"
            ],
            "image/png": "[encoded data removed]"
          },
          "metadata": {}
        }
      ],
      "source": [
        "keyword_counts = calc_keywords_count(ppl, stm, keywords)\n",
        "\n",
        "stosunek_slow = []\n",
        "for wc, kc, partia in zip(word_counts, keyword_counts, lista_partii):\n",
        "    print(partia, \": \", kc/wc * 10000)\n",
        "    stosunek_slow.append(kc/wc)\n",
        "\n",
        "plot_polit(stosunek_slow, \"negative connotated vocabulary\")"
      ]
    },
    {
      "cell_type": "code",
      "source": [],
      "metadata": {
        "id": "ZB0n8xF0nHD2"
      },
      "execution_count": null,
      "outputs": []
    }
  ],
  "metadata": {
    "colab": {
      "collapsed_sections": [
        "dxX1qIZNsrRA",
        "taQ7en3y7u8p",
        "DV8p4y2vO42R"
      ],
      "provenance": []
    },
    "kernelspec": {
      "display_name": "Python 3",
      "name": "python3"
    },
    "language_info": {
      "name": "python"
    }
  },
  "nbformat": 4,
  "nbformat_minor": 0
}